{
 "cells": [
  {
   "cell_type": "markdown",
   "id": "a1c328aa-d13e-4552-9945-66a2d1d1c1c9",
   "metadata": {},
   "source": [
    "# Sequencia de Fibonacci"
   ]
  },
  {
   "cell_type": "markdown",
   "id": "d0cd4569-6988-4dbf-9933-39eb9c2cce0d",
   "metadata": {},
   "source": [
    "A sequência de fibonacci é caracterizada pela soma do numero atual com o seu antecessor na lista que começa com 0 e 1.\n",
    "\n",
    "O código abaixo cria uma lista inicial chamada \"sequence\" com os dois primeiros números da sequência de fibonacci.\n",
    "\n",
    "A função \"While\" pega a soma dos dois ultimos números dessa lista até o limit que eu definir em \"limit\" na hora de fazer o print."
   ]
  },
  {
   "cell_type": "code",
   "execution_count": 1,
   "id": "89f5aa2b-7105-4020-bb07-962bc649485f",
   "metadata": {},
   "outputs": [
    {
     "name": "stdout",
     "output_type": "stream",
     "text": [
      "[0, 1, 1, 2, 3, 5, 8, 13, 21, 34, 55, 89]\n"
     ]
    }
   ],
   "source": [
    "def fibonacci_sequence(limit):\n",
    "    sequence = [0, 1]\n",
    "    while sequence[-1] + sequence[-2] <= limit:\n",
    "        sequence.append(sequence[-1] + sequence[-2])\n",
    "    return sequence\n",
    "\n",
    "print(fibonacci_sequence(100))"
   ]
  },
  {
   "cell_type": "markdown",
   "id": "2daef164-c0f2-415c-8f72-a42a98c84f7d",
   "metadata": {},
   "source": [
    "# Fatorial\n",
    "Criar algoritmo que faça o fatorial do número 1024. (Exemplo de fatorial: 6! = 6*5*4*3*2*1)."
   ]
  },
  {
   "cell_type": "markdown",
   "id": "03ec27ec-32bf-484a-9cf7-376f96fbb4a8",
   "metadata": {
    "tags": []
   },
   "source": [
    "A definição criada consiste em verificar se \"n\" for igual a 0 ele retorna 1 e o resultado é 1.\n",
    "Caso contrário ele cria um loop com for em que o range é definido como 1 até n+1 e para cada novo número ele multiplica o resultado e soma ao anterior."
   ]
  },
  {
   "cell_type": "code",
   "execution_count": 3,
   "id": "d9ee192e-2806-4165-90d0-a4f4cc9a70df",
   "metadata": {
    "tags": []
   },
   "outputs": [
    {
     "name": "stdout",
     "output_type": "stream",
     "text": [
      "720\n"
     ]
    }
   ],
   "source": [
    "def factorial(n):\n",
    "    if n == 0:\n",
    "        return 1\n",
    "    result = 1\n",
    "    for i in range(1, n + 1):\n",
    "        result *= i\n",
    "    return result\n",
    "\n",
    "print(factorial(6))"
   ]
  },
  {
   "cell_type": "markdown",
   "id": "61405f67-eccf-4b55-819b-925c01a899f7",
   "metadata": {},
   "source": [
    "# Lista Categorica\n",
    "Criar uma lista de frutas (bananas, maçãs, peras, uvas, laranjas) e fazer um algoritmo para consultar se uma fruta existe na lista. Caso não exista, adicionar a nova fruta. O programa só deve encerrar a brincadeira quando o usuário informar o número 999."
   ]
  },
  {
   "cell_type": "code",
   "execution_count": 5,
   "id": "3e592489-40b4-4dfd-a924-1085ba0a4708",
   "metadata": {
    "tags": []
   },
   "outputs": [
    {
     "name": "stdin",
     "output_type": "stream",
     "text": [
      "Digite o nome de uma fruta ou 999 para sair:  melão\n"
     ]
    },
    {
     "name": "stdout",
     "output_type": "stream",
     "text": [
      "A fruta melão foi adicionada à lista.\n"
     ]
    },
    {
     "name": "stdin",
     "output_type": "stream",
     "text": [
      "Digite o nome de uma fruta ou 999 para sair:  999\n"
     ]
    },
    {
     "name": "stdout",
     "output_type": "stream",
     "text": [
      "Programa encerrado. Lista final de frutas: ['bananas', 'maçãs', 'peras', 'uvas', 'laranjas', 'melão']\n"
     ]
    }
   ],
   "source": [
    "frutas = ['bananas', 'maçãs', 'peras', 'uvas', 'laranjas']\n",
    "\n",
    "while True:\n",
    "    fruta = input('Digite o nome de uma fruta ou 999 para sair: ')\n",
    "    if fruta == '999':\n",
    "        break\n",
    "    elif fruta in frutas:\n",
    "        print(f'A fruta {fruta} já está na lista.')\n",
    "    else:\n",
    "        frutas.append(fruta)\n",
    "        print(f'A fruta {fruta} foi adicionada à lista.')\n",
    "\n",
    "print('Programa encerrado. Lista final de frutas:', frutas)"
   ]
  }
 ],
 "metadata": {
  "kernelspec": {
   "display_name": "Python 3 (ipykernel)",
   "language": "python",
   "name": "python3"
  },
  "language_info": {
   "codemirror_mode": {
    "name": "ipython",
    "version": 3
   },
   "file_extension": ".py",
   "mimetype": "text/x-python",
   "name": "python",
   "nbconvert_exporter": "python",
   "pygments_lexer": "ipython3",
   "version": "3.10.9"
  }
 },
 "nbformat": 4,
 "nbformat_minor": 5
}
