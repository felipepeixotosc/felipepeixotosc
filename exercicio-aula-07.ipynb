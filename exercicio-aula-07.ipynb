{
 "cells": [
  {
   "cell_type": "code",
   "execution_count": 1,
   "id": "df40312e-dd4f-4c83-bd2b-5e5f1fd825a3",
   "metadata": {
    "tags": []
   },
   "outputs": [
    {
     "name": "stdout",
     "output_type": "stream",
     "text": [
      "Requirement already satisfied: pandas in /opt/conda/lib/python3.10/site-packages (1.5.3)\n",
      "Requirement already satisfied: python-dateutil>=2.8.1 in /opt/conda/lib/python3.10/site-packages (from pandas) (2.8.2)\n",
      "Requirement already satisfied: pytz>=2020.1 in /opt/conda/lib/python3.10/site-packages (from pandas) (2022.7.1)\n",
      "Requirement already satisfied: numpy>=1.21.0 in /opt/conda/lib/python3.10/site-packages (from pandas) (1.23.5)\n",
      "Requirement already satisfied: six>=1.5 in /opt/conda/lib/python3.10/site-packages (from python-dateutil>=2.8.1->pandas) (1.16.0)\n",
      "Requirement already satisfied: pymongo in /opt/conda/lib/python3.10/site-packages (4.5.0)\n",
      "Requirement already satisfied: dnspython<3.0.0,>=1.16.0 in /opt/conda/lib/python3.10/site-packages (from pymongo) (2.4.2)\n",
      "Requirement already satisfied: boto3 in /opt/conda/lib/python3.10/site-packages (1.28.40)\n",
      "Requirement already satisfied: botocore<1.32.0,>=1.31.40 in /opt/conda/lib/python3.10/site-packages (from boto3) (1.31.40)\n",
      "Requirement already satisfied: jmespath<2.0.0,>=0.7.1 in /opt/conda/lib/python3.10/site-packages (from boto3) (1.0.1)\n",
      "Requirement already satisfied: s3transfer<0.7.0,>=0.6.0 in /opt/conda/lib/python3.10/site-packages (from boto3) (0.6.2)\n",
      "Requirement already satisfied: urllib3<1.27,>=1.25.4 in /opt/conda/lib/python3.10/site-packages (from botocore<1.32.0,>=1.31.40->boto3) (1.26.14)\n",
      "Requirement already satisfied: python-dateutil<3.0.0,>=2.1 in /opt/conda/lib/python3.10/site-packages (from botocore<1.32.0,>=1.31.40->boto3) (2.8.2)\n",
      "Requirement already satisfied: six>=1.5 in /opt/conda/lib/python3.10/site-packages (from python-dateutil<3.0.0,>=2.1->botocore<1.32.0,>=1.31.40->boto3) (1.16.0)\n"
     ]
    }
   ],
   "source": [
    "!pip install pandas\n",
    "!pip install pymongo\n",
    "!pip install boto3"
   ]
  },
  {
   "cell_type": "code",
   "execution_count": 3,
   "id": "4e779a62-fa92-427e-bcce-7cfebfa15ac4",
   "metadata": {
    "tags": []
   },
   "outputs": [],
   "source": [
    "import numpy as np\n",
    "import pandas as pd"
   ]
  },
  {
   "cell_type": "code",
   "execution_count": 15,
   "id": "0bbb409f-1d9e-4d19-aa80-29ae0c0fcc8b",
   "metadata": {
    "tags": []
   },
   "outputs": [],
   "source": [
    "from io import BytesIO\n",
    "from pymongo import MongoClient\n",
    "import boto3\n",
    "from io import StringIO\n",
    "import shutil\n",
    "import csv"
   ]
  },
  {
   "cell_type": "code",
   "execution_count": 11,
   "id": "9b611e70-7832-4e49-b8ae-77301b181d3d",
   "metadata": {
    "tags": []
   },
   "outputs": [],
   "source": [
    "client = boto3.client('s3', \n",
    "    endpoint_url='http://awari-minio-nginx:9000',\n",
    "    aws_access_key_id='l1Bl6oNPKVVVhPMN',\n",
    "    aws_secret_access_key='N1n2kHSzUFqs38T7TIPmXxJgusRZcbfc',\n",
    "    aws_session_token=None,\n",
    "    config=boto3.session.Config(signature_version='s3v4'),\n",
    "    verify=False,\n",
    "    region_name='sa-east-1'\n",
    ")"
   ]
  },
  {
   "cell_type": "code",
   "execution_count": null,
   "id": "a83da2b1-4a34-4689-ab1e-14f5032aa3a2",
   "metadata": {},
   "outputs": [],
   "source": [
    "# Definindo os arquivos. \n",
    "arquivos =  os.listdir('./exercicios/municipios-estados/streaming')\n",
    "arquivos = [arquivo for arquivo in arquivos if arquivo.endswith('.csv')]\n",
    "arquivos\n",
    "\n",
    "for i in arquivos:\n",
    "    # Lendo o arquivo CSV\n",
    "    df = pd.read_csv(f'./exercicios/municipios-estados/streaming/{i}')\n",
    "    \n",
    "    # Supondo que 'UF' seja a coluna com a Unidade Federativa e pegando o primeiro valor\n",
    "    uf = df['codigo_uf'].iloc[0]\n",
    "    \n",
    "    # Criando a subpasta para a UF, se não existir\n",
    "    if not os.path.exists(f\"./exercicios/municipios-estados/streaming/{codigo_uf}\"):\n",
    "        os.makedirs(f\"./exercicios/municipios-estados/streaming/{codigo_uf}\")\n",
    "    \n",
    "    # Salvando o arquivo no bucket do Minio\n",
    "    csv_buffer = StringIO()\n",
    "    csv = df.to_csv(csv_buffer, index=False)\n",
    "    client.put_object(Body=csv_buffer.getvalue(), Bucket='aula-07', Key=f'{codigo_uf}/{i}')\n",
    "    \n",
    "    # Adicionando o conteúdo do arquivo ao final de cidades.csv na subpasta da UF\n",
    "    with open(f\"./exercicios/municipios-estados/streaming/{codigo_uf}/cidades.csv\", 'a') as f:\n",
    "        df.to_csv(f, header=f.tell()==0, index=False)  # Só adicionar header se for o início do arquivo\n",
    "    \n",
    "    # Movendo o arquivo para a pasta tratados\n",
    "    shutil.move(f\"./exercicios/municipios-estados/streaming/{i}\", \"./arquivos/tratados\")\n",
    "\n"
   ]
  }
 ],
 "metadata": {
  "kernelspec": {
   "display_name": "Python 3 (ipykernel)",
   "language": "python",
   "name": "python3"
  },
  "language_info": {
   "codemirror_mode": {
    "name": "ipython",
    "version": 3
   },
   "file_extension": ".py",
   "mimetype": "text/x-python",
   "name": "python",
   "nbconvert_exporter": "python",
   "pygments_lexer": "ipython3",
   "version": "3.10.9"
  }
 },
 "nbformat": 4,
 "nbformat_minor": 5
}
